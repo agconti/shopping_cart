{
 "metadata": {
  "name": ""
 },
 "nbformat": 3,
 "nbformat_minor": 0,
 "worksheets": [
  {
   "cells": [
    {
     "cell_type": "code",
     "collapsed": false,
     "input": [
      "import os\n",
      "os.environ['DJANGO_SETTINGS_MODULE'] = 'shopping_cart_project.settings'\n",
      "from shopping_cart.models import *\n",
      "from django.shortcuts import *"
     ],
     "language": "python",
     "metadata": {},
     "outputs": [],
     "prompt_number": 1
    },
    {
     "cell_type": "code",
     "collapsed": false,
     "input": [
      "import pandas as pd"
     ],
     "language": "python",
     "metadata": {},
     "outputs": [],
     "prompt_number": 2
    },
    {
     "cell_type": "code",
     "collapsed": false,
     "input": [
      "shipping = {'ground': 4.35, 'snail': 14.43, 'owl': 5.00, 'teleporter':324.04, 'pony_express':45.28}"
     ],
     "language": "python",
     "metadata": {},
     "outputs": [],
     "prompt_number": 26
    },
    {
     "cell_type": "code",
     "collapsed": false,
     "input": [
      "cart =[\n",
      "{'item_id': u'4', 'price': u'10.5', 'name': u'Eye Patch', 'quantity': u'1', 'shipping':'ground'}, \n",
      "{'item_id': u'1', 'price': u'10000', 'name': u'Time', 'quantity': u'1', 'shipping':'ground'}, \n",
      "{'item_id': u'7', 'price': u'800', 'name': u'Fender Strat', 'quantity': u'1','shipping':'ground'}, \n",
      "{'item_id': u'7', 'price': u'800', 'name': u'Fender Strat', 'quantity': u'1', 'shipping':'ground'}]"
     ],
     "language": "python",
     "metadata": {},
     "outputs": [],
     "prompt_number": 27
    },
    {
     "cell_type": "code",
     "collapsed": false,
     "input": [
      "df = pd.DataFrame(cart, dtype=np.float16)"
     ],
     "language": "python",
     "metadata": {},
     "outputs": [],
     "prompt_number": 28
    },
    {
     "cell_type": "code",
     "collapsed": false,
     "input": [
      "df"
     ],
     "language": "python",
     "metadata": {},
     "outputs": [
      {
       "html": [
        "<div style=\"max-height:1000px;max-width:1500px;overflow:auto;\">\n",
        "<table border=\"1\" class=\"dataframe\">\n",
        "  <thead>\n",
        "    <tr style=\"text-align: right;\">\n",
        "      <th></th>\n",
        "      <th>item_id</th>\n",
        "      <th>name</th>\n",
        "      <th>price</th>\n",
        "      <th>quantity</th>\n",
        "      <th>shipping</th>\n",
        "    </tr>\n",
        "  </thead>\n",
        "  <tbody>\n",
        "    <tr>\n",
        "      <th>0</th>\n",
        "      <td> 4</td>\n",
        "      <td>    Eye Patch</td>\n",
        "      <td>    10.5</td>\n",
        "      <td> 1</td>\n",
        "      <td> ground</td>\n",
        "    </tr>\n",
        "    <tr>\n",
        "      <th>1</th>\n",
        "      <td> 1</td>\n",
        "      <td>         Time</td>\n",
        "      <td> 10000.0</td>\n",
        "      <td> 1</td>\n",
        "      <td> ground</td>\n",
        "    </tr>\n",
        "    <tr>\n",
        "      <th>2</th>\n",
        "      <td> 7</td>\n",
        "      <td> Fender Strat</td>\n",
        "      <td>   800.0</td>\n",
        "      <td> 1</td>\n",
        "      <td> ground</td>\n",
        "    </tr>\n",
        "    <tr>\n",
        "      <th>3</th>\n",
        "      <td> 7</td>\n",
        "      <td> Fender Strat</td>\n",
        "      <td>   800.0</td>\n",
        "      <td> 1</td>\n",
        "      <td> ground</td>\n",
        "    </tr>\n",
        "  </tbody>\n",
        "</table>\n",
        "</div>"
       ],
       "metadata": {},
       "output_type": "pyout",
       "prompt_number": 29,
       "text": [
        "   item_id          name    price  quantity shipping\n",
        "0        4     Eye Patch     10.5         1   ground\n",
        "1        1          Time  10000.0         1   ground\n",
        "2        7  Fender Strat    800.0         1   ground\n",
        "3        7  Fender Strat    800.0         1   ground"
       ]
      }
     ],
     "prompt_number": 29
    },
    {
     "cell_type": "code",
     "collapsed": false,
     "input": [
      "tax = .08"
     ],
     "language": "python",
     "metadata": {},
     "outputs": [],
     "prompt_number": 30
    },
    {
     "cell_type": "code",
     "collapsed": false,
     "input": [
      "df['shipping_costs'] = df.shipping.apply(lambda x: shipping[x])\n",
      "df['tax'] = ((df.price * df.quantity) * tax)\n",
      "df['total_price'] = ((df.price * df.quantity) + df.tax + df.shipping_costs)"
     ],
     "language": "python",
     "metadata": {},
     "outputs": [],
     "prompt_number": 31
    },
    {
     "cell_type": "code",
     "collapsed": false,
     "input": [
      "df"
     ],
     "language": "python",
     "metadata": {},
     "outputs": [
      {
       "html": [
        "<div style=\"max-height:1000px;max-width:1500px;overflow:auto;\">\n",
        "<table border=\"1\" class=\"dataframe\">\n",
        "  <thead>\n",
        "    <tr style=\"text-align: right;\">\n",
        "      <th></th>\n",
        "      <th>item_id</th>\n",
        "      <th>name</th>\n",
        "      <th>price</th>\n",
        "      <th>quantity</th>\n",
        "      <th>shipping</th>\n",
        "      <th>shipping_costs</th>\n",
        "      <th>tax</th>\n",
        "      <th>total_price</th>\n",
        "    </tr>\n",
        "  </thead>\n",
        "  <tbody>\n",
        "    <tr>\n",
        "      <th>0</th>\n",
        "      <td> 4</td>\n",
        "      <td>    Eye Patch</td>\n",
        "      <td>    10.5</td>\n",
        "      <td> 1</td>\n",
        "      <td> ground</td>\n",
        "      <td> 4.35</td>\n",
        "      <td>   0.840332</td>\n",
        "      <td>    15.69375</td>\n",
        "    </tr>\n",
        "    <tr>\n",
        "      <th>1</th>\n",
        "      <td> 1</td>\n",
        "      <td>         Time</td>\n",
        "      <td> 10000.0</td>\n",
        "      <td> 1</td>\n",
        "      <td> ground</td>\n",
        "      <td> 4.35</td>\n",
        "      <td> 800.000000</td>\n",
        "      <td> 10804.35000</td>\n",
        "    </tr>\n",
        "    <tr>\n",
        "      <th>2</th>\n",
        "      <td> 7</td>\n",
        "      <td> Fender Strat</td>\n",
        "      <td>   800.0</td>\n",
        "      <td> 1</td>\n",
        "      <td> ground</td>\n",
        "      <td> 4.35</td>\n",
        "      <td>  64.000000</td>\n",
        "      <td>   868.35000</td>\n",
        "    </tr>\n",
        "    <tr>\n",
        "      <th>3</th>\n",
        "      <td> 7</td>\n",
        "      <td> Fender Strat</td>\n",
        "      <td>   800.0</td>\n",
        "      <td> 1</td>\n",
        "      <td> ground</td>\n",
        "      <td> 4.35</td>\n",
        "      <td>  64.000000</td>\n",
        "      <td>   868.35000</td>\n",
        "    </tr>\n",
        "  </tbody>\n",
        "</table>\n",
        "</div>"
       ],
       "metadata": {},
       "output_type": "pyout",
       "prompt_number": 32,
       "text": [
        "   item_id          name    price  quantity shipping  shipping_costs  \\\n",
        "0        4     Eye Patch     10.5         1   ground            4.35   \n",
        "1        1          Time  10000.0         1   ground            4.35   \n",
        "2        7  Fender Strat    800.0         1   ground            4.35   \n",
        "3        7  Fender Strat    800.0         1   ground            4.35   \n",
        "\n",
        "          tax  total_price  \n",
        "0    0.840332     15.69375  \n",
        "1  800.000000  10804.35000  \n",
        "2   64.000000    868.35000  \n",
        "3   64.000000    868.35000  "
       ]
      }
     ],
     "prompt_number": 32
    },
    {
     "cell_type": "code",
     "collapsed": false,
     "input": [],
     "language": "python",
     "metadata": {},
     "outputs": [
      {
       "metadata": {},
       "output_type": "pyout",
       "prompt_number": 35,
       "text": [
        "11608.0"
       ]
      }
     ],
     "prompt_number": 35
    },
    {
     "cell_type": "code",
     "collapsed": false,
     "input": [
      "total = df.total_price.sum()\n",
      "a = [((df.price * df.quantity).sum()/ total), \n",
      "     df.shipping_costs.sum() / total,\n",
      "     df.tax.sum() / total]"
     ],
     "language": "python",
     "metadata": {},
     "outputs": [],
     "prompt_number": 39
    },
    {
     "cell_type": "code",
     "collapsed": false,
     "input": [
      "a"
     ],
     "language": "python",
     "metadata": {},
     "outputs": [
      {
       "metadata": {},
       "output_type": "pyout",
       "prompt_number": 46,
       "text": [
        "[0.92444348878267091, 0.0013857095714006266, 0.073984148955815066]"
       ]
      }
     ],
     "prompt_number": 46
    },
    {
     "cell_type": "code",
     "collapsed": false,
     "input": [
      "df.to_dict()"
     ],
     "language": "python",
     "metadata": {},
     "outputs": [
      {
       "metadata": {},
       "output_type": "pyout",
       "prompt_number": 15,
       "text": [
        "{'item_id': {0: 4.0, 1: 1.0, 2: 7.0, 3: 7.0},\n",
        " 'name': {0: u'Eye Patch', 1: u'Time', 2: u'Fender Strat', 3: u'Fender Strat'},\n",
        " 'price': {0: 10.5, 1: 10000.0, 2: 800.0, 3: 800.0},\n",
        " 'quantity': {0: 1.0, 1: 1.0, 2: 1.0, 3: 1.0},\n",
        " 'shipping': {0: 'ground', 1: 'ground', 2: 'ground', 3: 'ground'},\n",
        " 'shipping_costs': {0: 4.3499999999999996,\n",
        "  1: 4.3499999999999996,\n",
        "  2: 4.3499999999999996,\n",
        "  3: 4.3499999999999996},\n",
        " 'tax': {0: 0.84033, 1: 800.0, 2: 64.0, 3: 64.0},\n",
        " 'total_price': {0: 15.69375,\n",
        "  1: 10804.35,\n",
        "  2: 868.35000000000002,\n",
        "  3: 868.35000000000002}}"
       ]
      }
     ],
     "prompt_number": 15
    },
    {
     "cell_type": "code",
     "collapsed": false,
     "input": [
      "import pandas as pd\n",
      "shipping = {'ground': 4.35, 'snail': 14.43, 'owl': 5.00, 'teleporter':324.04, 'pony_express':45.28}\n",
      "tax = .08\n",
      "\n",
      "df = pd.DataFrame(cart, dtype=np.float16)\n",
      "df['shipping_costs'] = df.shipping.apply(lambda x: shipping[x])\n",
      "df['tax'] = ((df.price * df.quantity) * tax)\n",
      "df['total_price'] = ((df.price * df.quantity) + df.tax + df.shipping_costs)\n",
      "df.to_json()"
     ],
     "language": "python",
     "metadata": {},
     "outputs": []
    }
   ],
   "metadata": {}
  }
 ]
}